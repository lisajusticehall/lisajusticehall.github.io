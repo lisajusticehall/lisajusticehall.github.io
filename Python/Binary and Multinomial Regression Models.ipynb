{
 "cells": [
  {
   "cell_type": "markdown",
   "metadata": {},
   "source": [
    "## Binary and Multinomial Logistic Regression Models\n",
    "\t\n",
    "Despite being valuable and easy to apply, logistic regression models are not used as often as they could be in data analysis (Fávero & Belfiore, 2018). Logistic regression models are like linear regression models, except outcomes are binary, such as predicting pass/fail, yes/no, or 0/1. Multinomial logistic regression models can estimate the probability of more than two values. For example, predicting a customer’s preferred dish, like eggs, bacon, or toast, would require multinomial logistic regression. \n",
    "\n",
    "Logistic regression models differ from linear regression models in output type. Linear regression is continuous, like predicting pricing. Logistic regression predicts probabilities related to a specific outcome (Bruce & Bruce, 2019). Both models estimate relationships between independent variables and an expected result; however, the applications can be very different. Linear regression could forecast sales revenue based on marketing, whereas logistic regression may better predict whether a student will pass an exam.\n",
    "\n",
    "### Logistic Regression Example\n",
    "\t\n",
    "Python libraries like sklearn.linear_model, sklearn.model_selection, sklearn.Metrics allow logistic regression models to be performed quickly and accurately(Scikit-learn developers, n.d.). Sklearn. Datasets allow for the quick selection of example datasets that can be used as practice sets to hone the skills needed to master the creation of logistic models. Figure 1 is an example of Python code needed to create a logistic regression model. The dataset used is a sample breast cancer dataset. X contains features independent variables like mean radius, mean texture, and mean perimeter, and y contains target variables like malignant (0) and benign (1). X is the input, and y is the output of what the model is trying to predict. \n",
    "\n",
    "Figure 1\n",
    "\n",
    "Logistic Regression Python code\n"
   ]
  },
  {
   "cell_type": "code",
   "execution_count": null,
   "metadata": {},
   "outputs": [],
   "source": [
    "import pandas as pd\n",
    "from sklearn.linear_model import LogisticRegression\n",
    "from sklearn.datasets import load_breast_cancer\n",
    "from sklearn.model_selection import train_test_split\n",
    "from sklearn.metrics import classification_report\n",
    "\n",
    "cancer = load_breast_cancer()\n",
    "X = pd.DataFrame(cancer.data, columns=cancer.feature_names)\n",
    "y = pd.Series(cancer.target)\n",
    "\n",
    "X_train, X_test, y_train, y_test = train_test_split(\n",
    "    X[['mean radius', 'mean texture', 'mean perimeter']], y, test_size=0.3, random_state=42\n",
    ")\n",
    "\n",
    "model = LogisticRegression(max_iter=1000)\n",
    "model.fit(X_train, y_train)\n",
    "y_pred = model.predict(X_test)\n",
    "\n",
    "print(classification_report(y_test, y_pred))\n",
    "\n",
    "intercept = model.intercept_[0]\n",
    "coefficients = dict(zip(X_train.columns, model.coef_[0]))\n"
   ]
  },
  {
   "cell_type": "markdown",
   "metadata": {},
   "source": [
    "Further exploring Figure 1, the logistic regression() function. We set the max iteration of the model to 1000; the more iterations, the better chance the model finds the best parameters. The model is trained using the model.fit() function; it learns the relationship between the features (x_train) and the target (y_train). We can then make predictions using the model.predict(X-test); each prediction would be either 0 or 1, malignant or benign. Print(classification report(y_test, y_pred)) generates metrics that help evaluate the model’s performance. In Figure 2, we can view the output. Precision indicates how many predicted outcomes were correct; when the model predicted malignant, it was correct 89% of the time; for positive, it was correct 96% of the time. The F1-Score indicates how well the model performed; for malignant, it indicates good performance; and for benign, it indicates excellent performance. Support indicates that 52 malignant and 108 benign cases were in the test set. The weighted average indicates that the mode’s overall performance was 94%. \n",
    "\n",
    "\n",
    "Figure 2\n",
    "\n",
    "Regression Model Output\n"
   ]
  },
  {
   "cell_type": "markdown",
   "metadata": {},
   "source": [
    "precision    recall  f1-score   support\n",
    "\n",
    "           0       0.89      0.94      0.91        63\n",
    "           1       0.96      0.94      0.95       108\n",
    "\n",
    "    accuracy                           0.94       171\n",
    "   macro avg       0.93      0.94      0.93       171\n",
    "weighted avg       0.94      0.94      0.94       171"
   ]
  },
  {
   "cell_type": "markdown",
   "metadata": {},
   "source": [
    "### Real World Applications\n",
    "\n",
    "Logistic regression models are beneficial when predicting healthcare outcomes, as noted in the above example. Further data could help predict survival rates of malignancies with or without treatment. Another use could be predicting whether an email is or is not spam (IBM, n.d.). Multinomial logistic regression could be applied to prediction preferences when there are more than two choices, like movie preferences.   A wide range of possibilities exist for using logistic regression when predicting possible outcomes. \n",
    "\n",
    "### Conclusion\n",
    "\n",
    "Classification tools like binary and multinomial logistic regression are important models across domains. Decision makers rely on model accuracy for informed decision makers. Tools like Python allow for quick and accurate data processing in logistic regression models. Real-world applications include making predictions that could impact disease diagnosis and spam prediction. The practical use of logistic regression makes it a helpful choice in data science. \n",
    " \n",
    "\n",
    "### References\n",
    "\n",
    "Bruce, P., & Bruce, A. (2019). Practical statistics for data scientists: 50+ essential concepts using R and Python (2nd ed.). O'Reilly Media.\n",
    "\n",
    "Fávero, L. P., & Belfiore, P. (2018). Data Science for Business and Decision Making (1st ed.). Academic Press. https://doi.org/10.1016/C2016-0-01101-4\n",
    "\n",
    "IBM. (n.d.). What is logistic regression? IBM. Retrieved February 20, 2025, from https://www.ibm.com/think/topics/logistic-regression\n",
    "\n",
    "Scikit-learn developers. (n.d.). sklearn.linear_model.LogisticRegression. Scikit-learn. Retrieved [February 20, 2025], from https://scikit-learn.org/stable/modules/generated/sklearn.linear_model.LogisticRegression.html\n",
    "\n",
    "Scikit-learn developers. (n.d.). sklearn.datasets.load_breast_cancer. Scikit-learn. Retrieved [February 20, 2025], from https://scikit-learn.org/stable/modules/generated/sklearn.datasets.load_breast_cancer.html\n",
    " \n"
   ]
  }
 ],
 "metadata": {
  "kernelspec": {
   "display_name": "Python 3",
   "language": "python",
   "name": "python3"
  },
  "language_info": {
   "codemirror_mode": {
    "name": "ipython",
    "version": 3
   },
   "file_extension": ".py",
   "mimetype": "text/x-python",
   "name": "python",
   "nbconvert_exporter": "python",
   "pygments_lexer": "ipython3",
   "version": "3.13.1"
  }
 },
 "nbformat": 4,
 "nbformat_minor": 2
}
